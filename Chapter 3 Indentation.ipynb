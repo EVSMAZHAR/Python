{
 "cells": [
  {
   "cell_type": "markdown",
   "metadata": {},
   "source": [
    "# Chapter 3: Indentation"
   ]
  },
  {
   "cell_type": "code",
   "execution_count": 2,
   "metadata": {},
   "outputs": [],
   "source": [
    "# simple example\n",
    "class ExampleClass:\n",
    "#Every function belonging to a class must be indented equally\n",
    "    def __init__(self):\n",
    "        name = \"example\"\n",
    "    def someFunction(self, a):\n",
    "        #Notice everything belonging to a function must be indented\n",
    "        if a > 5:\n",
    "            return True\n",
    "        else:\n",
    "            return False"
   ]
  },
  {
   "cell_type": "code",
   "execution_count": 4,
   "metadata": {},
   "outputs": [
    {
     "data": {
      "text/plain": [
       "True"
      ]
     },
     "execution_count": 4,
     "metadata": {},
     "output_type": "execute_result"
    }
   ],
   "source": [
    "#If a function is not indented to the same level it will not be considers as part of the parent class\n",
    "def separateFunction(b):\n",
    "    for i in b:\n",
    "    #Loops are also indented and nested conditions start a new indentation\n",
    "        if i == 1:\n",
    "            return True\n",
    "    return False\n",
    "\n",
    "separateFunction([2,3,5,6,1])"
   ]
  },
  {
   "cell_type": "markdown",
   "metadata": {},
   "source": [
    "The recommended indentation is 4 spaces but tabs or spaces can be used so long as they are consistent. Do not\n",
    "mix tabs and spaces in Python as this will cause an error in Python 3 and can causes errors in Python 2."
   ]
  },
  {
   "cell_type": "markdown",
   "metadata": {},
   "source": [
    "Whitespace is handled by the lexical analyzer before being parsed.\n",
    "The lexical analyzer uses a stack to store indentation levels. At the beginning, the stack contains just the value 0,\n",
    "which is the leftmost position. Whenever a nested block begins, the new indentation level is pushed on the stack,\n",
    "and an \"INDENT\" token is inserted into the token stream which is passed to the parser. There can never be more\n",
    "than one \"INDENT\" token in a row (IndentationError).\n",
    "When a line is encountered with a smaller indentation level, values are popped from the stack until a value is on top\n",
    "which is equal to the new indentation level (if none is found, a syntax error occurs). For each value popped, a\n",
    "\"DEDENT\" token is generated. Obviously, there can be multiple \"DEDENT\" tokens in a row.\n",
    "The lexical analyzer skips empty lines (those containing only whitespace and possibly comments), and will never\n",
    "generate either \"INDENT\" or \"DEDENT\" tokens for them.\n",
    "At the end of the source code, \"DEDENT\" tokens are generated for each indentation level left on the stack, until just\n",
    "the 0 is left.\n",
    "For example:"
   ]
  },
  {
   "cell_type": "code",
   "execution_count": null,
   "metadata": {},
   "outputs": [],
   "source": [
    "foo =True\n",
    "if foo:\n",
    "    if bar:\n",
    "        x = 42\n",
    "else:\n",
    "    print (foo)"
   ]
  },
  {
   "cell_type": "markdown",
   "metadata": {},
   "source": [
    "is analyzed as:"
   ]
  },
  {
   "cell_type": "markdown",
   "metadata": {},
   "source": [
    "<if> <foo> <:> [0]\n",
    "<INDENT> <if> <bar> <:> [0, 4]\n",
    "<INDENT> <x> <=> <42> [0, 4, 8]\n",
    "<DEDENT> <DEDENT> <else> <:> [0]\n",
    "<INDENT> <print> <foo> [0, 2]\n",
    "<DEDENT>"
   ]
  },
  {
   "cell_type": "markdown",
   "metadata": {},
   "source": [
    "## Indentation Errors"
   ]
  },
  {
   "cell_type": "markdown",
   "metadata": {},
   "source": [
    "The spacing should be even and uniform throughout. Improper indentation can cause an IndentationError or\n",
    "cause the program to do something unexpected. The following example raises an IndentationError"
   ]
  },
  {
   "cell_type": "code",
   "execution_count": 9,
   "metadata": {},
   "outputs": [
    {
     "ename": "IndentationError",
     "evalue": "unindent does not match any outer indentation level (<tokenize>, line 6)",
     "output_type": "error",
     "traceback": [
      "\u001b[1;36m  File \u001b[1;32m\"<tokenize>\"\u001b[1;36m, line \u001b[1;32m6\u001b[0m\n\u001b[1;33m    print \"done\"\u001b[0m\n\u001b[1;37m    ^\u001b[0m\n\u001b[1;31mIndentationError\u001b[0m\u001b[1;31m:\u001b[0m unindent does not match any outer indentation level\n"
     ]
    }
   ],
   "source": [
    "a = 7\n",
    "if a > 5:\n",
    "    print \"foo\"\n",
    "else:\n",
    "    print \"bar\"\n",
    " print \"done\""
   ]
  },
  {
   "cell_type": "markdown",
   "metadata": {},
   "source": [
    "Or if the line following a colon is not indented, an IndentationError will also be raised:"
   ]
  },
  {
   "cell_type": "code",
   "execution_count": 10,
   "metadata": {},
   "outputs": [
    {
     "ename": "IndentationError",
     "evalue": "expected an indented block (<ipython-input-10-d19b7d90bb82>, line 2)",
     "output_type": "error",
     "traceback": [
      "\u001b[1;36m  File \u001b[1;32m\"<ipython-input-10-d19b7d90bb82>\"\u001b[1;36m, line \u001b[1;32m2\u001b[0m\n\u001b[1;33m    print \"true\"\u001b[0m\n\u001b[1;37m    ^\u001b[0m\n\u001b[1;31mIndentationError\u001b[0m\u001b[1;31m:\u001b[0m expected an indented block\n"
     ]
    }
   ],
   "source": [
    "if True:\n",
    "print \"true\""
   ]
  },
  {
   "cell_type": "markdown",
   "metadata": {},
   "source": [
    "If you add indentation where it doesn't belong, an IndentationError will be raised:"
   ]
  },
  {
   "cell_type": "code",
   "execution_count": 11,
   "metadata": {},
   "outputs": [
    {
     "ename": "IndentationError",
     "evalue": "unexpected indent (<ipython-input-11-88204aaa143e>, line 3)",
     "output_type": "error",
     "traceback": [
      "\u001b[1;36m  File \u001b[1;32m\"<ipython-input-11-88204aaa143e>\"\u001b[1;36m, line \u001b[1;32m3\u001b[0m\n\u001b[1;33m    b = 5\u001b[0m\n\u001b[1;37m    ^\u001b[0m\n\u001b[1;31mIndentationError\u001b[0m\u001b[1;31m:\u001b[0m unexpected indent\n"
     ]
    }
   ],
   "source": [
    "if True:\n",
    "    a = 6\n",
    "        b = 5"
   ]
  },
  {
   "cell_type": "markdown",
   "metadata": {},
   "source": [
    "If you forget to un-indent functionality could be lost. In this example None is returned instead of the expected False:If you forget to un-indent functionality could be lost. In this example None is returned instead of the expected False:"
   ]
  },
  {
   "cell_type": "code",
   "execution_count": 14,
   "metadata": {},
   "outputs": [
    {
     "name": "stdout",
     "output_type": "stream",
     "text": [
      "None\n"
     ]
    }
   ],
   "source": [
    "def isEven(a):\n",
    "    if a%2 ==0:\n",
    "        return True\n",
    "        #this next line should be even with the if\n",
    "        return False\n",
    "print (isEven(7))"
   ]
  },
  {
   "cell_type": "code",
   "execution_count": null,
   "metadata": {},
   "outputs": [],
   "source": []
  }
 ],
 "metadata": {
  "kernelspec": {
   "display_name": "Python 3",
   "language": "python",
   "name": "python3"
  },
  "language_info": {
   "codemirror_mode": {
    "name": "ipython",
    "version": 3
   },
   "file_extension": ".py",
   "mimetype": "text/x-python",
   "name": "python",
   "nbconvert_exporter": "python",
   "pygments_lexer": "ipython3",
   "version": "3.8.3"
  }
 },
 "nbformat": 4,
 "nbformat_minor": 4
}
