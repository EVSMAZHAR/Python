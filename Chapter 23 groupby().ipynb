{
 "cells": [
  {
   "cell_type": "markdown",
   "metadata": {},
   "source": [
    "# Chapter 23: groupby()"
   ]
  },
  {
   "cell_type": "raw",
   "metadata": {},
   "source": [
    "Parameter Details\n",
    "iterable   Any python iterable\n",
    "key       Function(criteria) on which to group the iterable"
   ]
  },
  {
   "cell_type": "markdown",
   "metadata": {},
   "source": [
    "In Python, the itertools.groupby() method allows developers to group values of an iterable class based on a\n",
    "specified property into another iterable set of values."
   ]
  },
  {
   "cell_type": "code",
   "execution_count": 4,
   "metadata": {},
   "outputs": [
    {
     "data": {
      "text/plain": [
       "{'animal': [('animal', 'bear'), ('animal', 'duck')],\n",
       " 'plant': [('plant', 'cactus')],\n",
       " 'vehicle': [('vehicle', 'harley'),\n",
       "  ('vehicle', 'speed boat'),\n",
       "  ('vehicle', 'school bus')]}"
      ]
     },
     "execution_count": 4,
     "metadata": {},
     "output_type": "execute_result"
    }
   ],
   "source": [
    "from itertools import *\n",
    "things = [(\"animal\", \"bear\"), (\"animal\", \"duck\"), (\"plant\", \"cactus\"), (\"vehicle\", \"harley\"), \n",
    "(\"vehicle\", \"speed boat\"), (\"vehicle\", \"school bus\")]\n",
    "\n",
    "dic = {}\n",
    "f = lambda x: x[0]\n",
    "for key, group in groupby(sorted(things, key=f), f):\n",
    "    dic[key] = list(group)\n",
    "dic"
   ]
  },
  {
   "cell_type": "code",
   "execution_count": 5,
   "metadata": {},
   "outputs": [
    {
     "data": {
      "text/plain": [
       "{'animal': [('animal', 'bear'), ('animal', 'duck')],\n",
       " 'plant': [('plant', 'cactus')],\n",
       " 'vehicle': [('vehicle', 'harley'),\n",
       "  ('vehicle', 'speed boat'),\n",
       "  ('vehicle', 'school bus')]}"
      ]
     },
     "execution_count": 5,
     "metadata": {},
     "output_type": "execute_result"
    }
   ],
   "source": [
    "dic = {}\n",
    "f = lambda x: x[0]\n",
    "for key, group in groupby(things, f):\n",
    "    dic[key] = list(group)\n",
    "dic"
   ]
  },
  {
   "cell_type": "code",
   "execution_count": 7,
   "metadata": {},
   "outputs": [
    {
     "data": {
      "text/plain": [
       "{'animal': [['animal', 'bear'], ['animal', 'duck']],\n",
       " 'vehicle': [['vehicle', 'speed boat'], ['vehicle', 'school bus']],\n",
       " 'plant': [['plant', 'cactus']]}"
      ]
     },
     "execution_count": 7,
     "metadata": {},
     "output_type": "execute_result"
    }
   ],
   "source": [
    "# groupby on list\n",
    "things = [[\"animal\", \"bear\"], [\"animal\", \"duck\"], [\"vehicle\", \"harley\"], [\"plant\", \"cactus\"], \\\n",
    "[\"vehicle\", \"speed boat\"], [\"vehicle\", \"school bus\"]]\n",
    "\n",
    "dic = {}\n",
    "f = lambda x: x[0]\n",
    "for key, group in groupby(things, f):\n",
    "    dic[key] = list(group)\n",
    "dic"
   ]
  },
  {
   "cell_type": "code",
   "execution_count": 8,
   "metadata": {},
   "outputs": [
    {
     "data": {
      "text/plain": [
       "{'goat': ['goat'],\n",
       " 'dog': ['dog'],\n",
       " 'cow': ['cow'],\n",
       " 1: [1, 1],\n",
       " 2: [2],\n",
       " 3: [3],\n",
       " 11: [11],\n",
       " 10: [10],\n",
       " ('persons', 'man', 'woman'): [('persons', 'man', 'woman')]}"
      ]
     },
     "execution_count": 8,
     "metadata": {},
     "output_type": "execute_result"
    }
   ],
   "source": [
    "c = groupby(['goat', 'dog', 'cow', 1, 1, 2, 3, 11, 10, ('persons', 'man', 'woman')])\n",
    "dic = {}\n",
    "for k, v in c:\n",
    "    dic[k] = list(v)\n",
    "dic"
   ]
  },
  {
   "cell_type": "code",
   "execution_count": 9,
   "metadata": {},
   "outputs": [
    {
     "data": {
      "text/plain": [
       "{'g': ['goat'],\n",
       " 'd': ['dog', 'donkey'],\n",
       " 'm': ['mongoose', 'malloo'],\n",
       " 'c': ['camel'],\n",
       " 'persons': [('persons', 'man', 'woman')],\n",
       " 'w': ['wombat']}"
      ]
     },
     "execution_count": 9,
     "metadata": {},
     "output_type": "execute_result"
    }
   ],
   "source": [
    "list_things = ['goat', 'dog', 'donkey', 'mulato', 'cow', 'cat', ('persons', 'man', 'woman'),\n",
    "'wombat', 'mongoose', 'malloo', 'camel']\n",
    "c = groupby(list_things, key=lambda x: x[0])\n",
    "\n",
    "dic = {}\n",
    "for k, v in c:\n",
    "    dic[k] = list(v)\n",
    "dic"
   ]
  },
  {
   "cell_type": "code",
   "execution_count": 10,
   "metadata": {},
   "outputs": [
    {
     "name": "stdout",
     "output_type": "stream",
     "text": [
      "['cow', 'cat', 'camel', 'dog', 'donkey', 'goat', 'mulato', 'mongoose', 'malloo', ('persons', 'man', 'woman'), 'wombat']\n",
      "\n"
     ]
    },
    {
     "data": {
      "text/plain": [
       "{'c': ['cow', 'cat', 'camel'],\n",
       " 'd': ['dog', 'donkey'],\n",
       " 'g': ['goat'],\n",
       " 'm': ['mulato', 'mongoose', 'malloo'],\n",
       " 'persons': [('persons', 'man', 'woman')],\n",
       " 'w': ['wombat']}"
      ]
     },
     "execution_count": 10,
     "metadata": {},
     "output_type": "execute_result"
    }
   ],
   "source": [
    "# sorted version\n",
    "list_things = ['goat', 'dog', 'donkey', 'mulato', 'cow', 'cat', ('persons', 'man', 'woman'), \n",
    "'wombat', 'mongoose', 'malloo', 'camel']\n",
    "sorted_list = sorted(list_things, key = lambda x: x[0])\n",
    "print(sorted_list)\n",
    "print()\n",
    "c = groupby(sorted_list, key=lambda x: x[0])\n",
    "dic = {}\n",
    "for k, v in c:\n",
    "    dic[k] = list(v)\n",
    "dic"
   ]
  },
  {
   "cell_type": "code",
   "execution_count": null,
   "metadata": {},
   "outputs": [],
   "source": []
  }
 ],
 "metadata": {
  "kernelspec": {
   "display_name": "Python 3",
   "language": "python",
   "name": "python3"
  },
  "language_info": {
   "codemirror_mode": {
    "name": "ipython",
    "version": 3
   },
   "file_extension": ".py",
   "mimetype": "text/x-python",
   "name": "python",
   "nbconvert_exporter": "python",
   "pygments_lexer": "ipython3",
   "version": "3.8.3"
  }
 },
 "nbformat": 4,
 "nbformat_minor": 4
}
