{
 "cells": [
  {
   "cell_type": "markdown",
   "metadata": {},
   "source": [
    "# Chapter 29: Basic Input and Output"
   ]
  },
  {
   "cell_type": "markdown",
   "metadata": {},
   "source": [
    "## Using the print function"
   ]
  },
  {
   "cell_type": "code",
   "execution_count": 1,
   "metadata": {},
   "outputs": [
    {
     "name": "stdout",
     "output_type": "stream",
     "text": [
      "This string will be displayed in the output\n"
     ]
    }
   ],
   "source": [
    "print(\"This string will be displayed in the output\")"
   ]
  },
  {
   "cell_type": "code",
   "execution_count": 2,
   "metadata": {},
   "outputs": [
    {
     "name": "stdout",
     "output_type": "stream",
     "text": [
      "You can print \n",
      " escape characters too.\n"
     ]
    }
   ],
   "source": [
    "print(\"You can print \\n escape characters too.\")"
   ]
  },
  {
   "cell_type": "markdown",
   "metadata": {},
   "source": [
    "## Reading from a File"
   ]
  },
  {
   "cell_type": "markdown",
   "metadata": {},
   "source": [
    "Input can also be read from files. Files can be opened using the built-in function open. Using a with <command> as\n",
    "<name> syntax (called a 'Context Manager') makes using open and getting a handle for the file super easy:"
   ]
  },
  {
   "cell_type": "code",
   "execution_count": null,
   "metadata": {},
   "outputs": [],
   "source": [
    "with open('somefile.txt', 'r') as fileobj:\n",
    "# write code here using fileobj"
   ]
  },
  {
   "cell_type": "markdown",
   "metadata": {},
   "source": [
    "This ensures that when code execution leaves the block the file is automatically closed."
   ]
  },
  {
   "cell_type": "markdown",
   "metadata": {},
   "source": [
    "Files can be opened in different modes. In the above example the file is opened as read-only. To open an existing\n",
    "file for reading only use r. If you want to read that file as bytes use rb. To append data to an existing file use a. Use\n",
    "w to create a file or overwrite any existing files of the same name. You can use r+ to open a file for both reading and\n",
    "writing. The first argument of open() is the filename, the second is the mode. If mode is left blank, it will default to\n",
    "r."
   ]
  },
  {
   "cell_type": "code",
   "execution_count": 4,
   "metadata": {},
   "outputs": [],
   "source": [
    "with open('shoppinglist.txt', 'w') as fileobj:\n",
    "    fileobj.write('tomato\\npasta\\ngarlic')"
   ]
  },
  {
   "cell_type": "code",
   "execution_count": 6,
   "metadata": {},
   "outputs": [
    {
     "name": "stdout",
     "output_type": "stream",
     "text": [
      "tomato\n",
      "\n",
      "pasta\n",
      "\n",
      "garlic\n"
     ]
    }
   ],
   "source": [
    "with open('shoppinglist.txt', 'r') as fileobj:\n",
    "    lines = fileobj.readlines()\n",
    "    for line in lines:\n",
    "        print(line)"
   ]
  },
  {
   "cell_type": "code",
   "execution_count": 7,
   "metadata": {},
   "outputs": [
    {
     "name": "stdout",
     "output_type": "stream",
     "text": [
      "tomato\n",
      "pasta\n",
      "garlic\n"
     ]
    }
   ],
   "source": [
    "with open('shoppinglist.txt', 'r') as fileobj:\n",
    "    # here we read the whole content into one string:\n",
    "    content = fileobj.read();\n",
    "    print(content)"
   ]
  },
  {
   "cell_type": "code",
   "execution_count": 8,
   "metadata": {},
   "outputs": [
    {
     "name": "stdout",
     "output_type": "stream",
     "text": [
      "['tomato\\n', 'pasta\\n', 'garlic']\n"
     ]
    }
   ],
   "source": [
    "    content.split('\\n')\n",
    "    lines\n",
    "    print(lines)"
   ]
  },
  {
   "cell_type": "code",
   "execution_count": 9,
   "metadata": {},
   "outputs": [],
   "source": [
    "# this method reads line by line:\n",
    "with open('shoppinglist.txt', 'r') as fileobj:\n",
    "    lines = []\n",
    "    for line in fileobj:\n",
    "        lines.append(line.strip())"
   ]
  },
  {
   "cell_type": "code",
   "execution_count": 10,
   "metadata": {},
   "outputs": [
    {
     "name": "stdout",
     "output_type": "stream",
     "text": [
      "['tomato', 'pasta', 'garlic']\n"
     ]
    }
   ],
   "source": [
    "print(lines)"
   ]
  },
  {
   "cell_type": "code",
   "execution_count": 11,
   "metadata": {},
   "outputs": [
    {
     "name": "stdout",
     "output_type": "stream",
     "text": [
      "We are at 0.\n"
     ]
    }
   ],
   "source": [
    "fileobj = open('shoppinglist.txt', 'r')\n",
    "pos = fileobj.tell()\n",
    "print('We are at %u.' % pos)"
   ]
  },
  {
   "cell_type": "code",
   "execution_count": 12,
   "metadata": {},
   "outputs": [
    {
     "name": "stdout",
     "output_type": "stream",
     "text": [
      "This file was 21 characters long.\n"
     ]
    }
   ],
   "source": [
    "content = fileobj.read()\n",
    "end = fileobj.tell()\n",
    "print('This file was %u characters long.' % end)\n",
    "\n",
    "fileobj.close()"
   ]
  },
  {
   "cell_type": "code",
   "execution_count": 13,
   "metadata": {},
   "outputs": [
    {
     "name": "stdout",
     "output_type": "stream",
     "text": [
      "We are at character #7.\n"
     ]
    }
   ],
   "source": [
    "fileobj = open('shoppinglist.txt', 'r')\n",
    "fileobj.seek(7)\n",
    "pos = fileobj.tell()\n",
    "print('We are at character #%u.' % pos)"
   ]
  },
  {
   "cell_type": "code",
   "execution_count": 14,
   "metadata": {},
   "outputs": [],
   "source": [
    "next4 = fileobj.read(4)"
   ]
  },
  {
   "cell_type": "code",
   "execution_count": 15,
   "metadata": {},
   "outputs": [
    {
     "data": {
      "text/plain": [
       "'\\npas'"
      ]
     },
     "execution_count": 15,
     "metadata": {},
     "output_type": "execute_result"
    }
   ],
   "source": [
    "next4"
   ]
  },
  {
   "cell_type": "code",
   "execution_count": 16,
   "metadata": {},
   "outputs": [
    {
     "name": "stdout",
     "output_type": "stream",
     "text": [
      "We are at 11.\n"
     ]
    }
   ],
   "source": [
    "pos = fileobj.tell()\n",
    "print('We are at %u.' % pos)"
   ]
  },
  {
   "cell_type": "code",
   "execution_count": 17,
   "metadata": {},
   "outputs": [],
   "source": [
    "fileobj.close()"
   ]
  },
  {
   "cell_type": "code",
   "execution_count": 19,
   "metadata": {},
   "outputs": [
    {
     "name": "stdout",
     "output_type": "stream",
     "text": [
      "<class 'str'>\n",
      "<class 'bytes'>\n"
     ]
    }
   ],
   "source": [
    "#To demonstrate the difference between characters and bytes:\n",
    "with open('shoppinglist.txt', 'r') as fileobj:\n",
    "    print(type(fileobj.read()))\n",
    "with open('shoppinglist.txt', 'rb') as fileobj:\n",
    "    print(type(fileobj.read()))"
   ]
  },
  {
   "cell_type": "markdown",
   "metadata": {},
   "source": [
    "## Read from stdin"
   ]
  },
  {
   "cell_type": "code",
   "execution_count": 20,
   "metadata": {},
   "outputs": [],
   "source": [
    "import sys\n",
    "for line in sys.stdin:\n",
    "    print(line)"
   ]
  },
  {
   "cell_type": "markdown",
   "metadata": {},
   "source": [
    "## Using input()"
   ]
  },
  {
   "cell_type": "code",
   "execution_count": 21,
   "metadata": {},
   "outputs": [
    {
     "name": "stdout",
     "output_type": "stream",
     "text": [
      "Put a message here that asks the user for inputhi\n"
     ]
    },
    {
     "data": {
      "text/plain": [
       "'hi'"
      ]
     },
     "execution_count": 21,
     "metadata": {},
     "output_type": "execute_result"
    }
   ],
   "source": [
    "foo = input(\"Put a message here that asks the user for input\")\n",
    "foo"
   ]
  },
  {
   "cell_type": "markdown",
   "metadata": {},
   "source": [
    "## Function to prompt user for a number"
   ]
  },
  {
   "cell_type": "code",
   "execution_count": 25,
   "metadata": {},
   "outputs": [
    {
     "name": "stdout",
     "output_type": "stream",
     "text": [
      "input a number: f\n",
      "that's not a number!\n",
      "input a number: 45\n"
     ]
    }
   ],
   "source": [
    "def input_number(msg, err_msg=None):\n",
    "    while True:\n",
    "        try:\n",
    "            return float(input(msg))\n",
    "        except ValueError:\n",
    "            if err_msg is not None:\n",
    "                print(err_msg)\n",
    "\n",
    "user_number = input_number(\"input a number: \", \"that's not a number!\")"
   ]
  },
  {
   "cell_type": "markdown",
   "metadata": {},
   "source": [
    "## Printing a string without a newline at the end"
   ]
  },
  {
   "cell_type": "code",
   "execution_count": 26,
   "metadata": {},
   "outputs": [
    {
     "name": "stdout",
     "output_type": "stream",
     "text": [
      "Hello, \n",
      "World!\n"
     ]
    }
   ],
   "source": [
    "print(\"Hello, \", end=\"\\n\")\n",
    "print(\"World!\")"
   ]
  },
  {
   "cell_type": "code",
   "execution_count": 27,
   "metadata": {},
   "outputs": [
    {
     "name": "stdout",
     "output_type": "stream",
     "text": [
      "Hello, World!\n"
     ]
    }
   ],
   "source": [
    "print(\"Hello, \", end=\"\")\n",
    "print(\"World!\")"
   ]
  },
  {
   "cell_type": "code",
   "execution_count": 28,
   "metadata": {},
   "outputs": [
    {
     "name": "stdout",
     "output_type": "stream",
     "text": [
      "Hello, <br>World!\n"
     ]
    }
   ],
   "source": [
    "print(\"Hello, \", end=\"<br>\")\n",
    "print(\"World!\")"
   ]
  },
  {
   "cell_type": "code",
   "execution_count": 29,
   "metadata": {},
   "outputs": [
    {
     "name": "stdout",
     "output_type": "stream",
     "text": [
      "Hello, BREAKWorld!\n"
     ]
    }
   ],
   "source": [
    "print(\"Hello, \", end=\"BREAK\")\n",
    "print(\"World!\")"
   ]
  },
  {
   "cell_type": "code",
   "execution_count": 30,
   "metadata": {},
   "outputs": [
    {
     "name": "stdout",
     "output_type": "stream",
     "text": [
      "Hello, World!"
     ]
    }
   ],
   "source": [
    "import sys\n",
    "sys.stdout.write(\"Hello, \")\n",
    "sys.stdout.write(\"World!\")"
   ]
  },
  {
   "cell_type": "code",
   "execution_count": null,
   "metadata": {},
   "outputs": [],
   "source": []
  }
 ],
 "metadata": {
  "kernelspec": {
   "display_name": "Python 3",
   "language": "python",
   "name": "python3"
  },
  "language_info": {
   "codemirror_mode": {
    "name": "ipython",
    "version": 3
   },
   "file_extension": ".py",
   "mimetype": "text/x-python",
   "name": "python",
   "nbconvert_exporter": "python",
   "pygments_lexer": "ipython3",
   "version": "3.8.3"
  }
 },
 "nbformat": 4,
 "nbformat_minor": 4
}
